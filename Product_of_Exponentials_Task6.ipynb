{
  "nbformat": 4,
  "nbformat_minor": 0,
  "metadata": {
    "colab": {
      "name": "Product of Exponentials Task6.ipynb",
      "provenance": [],
      "collapsed_sections": [
        "D6GrShNhILbZ",
        "c4cvoY62IOwR"
      ]
    },
    "kernelspec": {
      "name": "python3",
      "display_name": "Python 3"
    }
  },
  "cells": [
    {
      "cell_type": "markdown",
      "metadata": {
        "id": "qcOCuWlVIf03"
      },
      "source": [
        "## Work done by:\r\n",
        "\r\n",
        "#### <b><i>Cham An Fam</i></b> | <b><i>Simon Idoko</i></b> | <b><i>Ruslan Damindarov</i></b>"
      ]
    },
    {
      "cell_type": "markdown",
      "metadata": {
        "id": "tlNnAaxmbv8k"
      },
      "source": [
        "<h2>Polar Robot</h2>\r\n",
        "Kinematics using Product of Exponentials"
      ]
    },
    {
      "cell_type": "markdown",
      "metadata": {
        "id": "D6GrShNhILbZ"
      },
      "source": [
        "### <b><i>Imports</i></b>"
      ]
    },
    {
      "cell_type": "code",
      "metadata": {
        "id": "sWff99TMcTXD"
      },
      "source": [
        "import numpy as np\r\n",
        "import sympy as sym\r\n",
        "from functools import reduce"
      ],
      "execution_count": 1,
      "outputs": []
    },
    {
      "cell_type": "markdown",
      "metadata": {
        "id": "c4cvoY62IOwR"
      },
      "source": [
        "### <b><i>Utilities</i></b>"
      ]
    },
    {
      "cell_type": "code",
      "metadata": {
        "id": "6udj9w1TphVd"
      },
      "source": [
        "def Rx(q):\r\n",
        "  T = np.array([[1,         0,          0, 0],\r\n",
        "                [0, np.cos(q), -np.sin(q), 0],\r\n",
        "                [0, np.sin(q),  np.cos(q), 0],\r\n",
        "                [0,         0,          0, 1]], dtype=float)\r\n",
        "  return T\r\n",
        "\r\n",
        "def Ry(q):\r\n",
        "  T = np.array([[ np.cos(q), 0, np.sin(q), 0],\r\n",
        "                [         0, 1,         0, 0],\r\n",
        "                [-np.sin(q), 0, np.cos(q), 0],\r\n",
        "                [         0, 0,         0, 1]], dtype=float)\r\n",
        "  return T\r\n",
        "\r\n",
        "def Rz(q):\r\n",
        "  T = np.array([[np.cos(q), -np.sin(q), 0, 0],\r\n",
        "                [np.sin(q),  np.cos(q), 0, 0],\r\n",
        "                [        0,          0, 1, 0],\r\n",
        "                [        0,          0, 0, 1]], dtype=float)\r\n",
        "  return T"
      ],
      "execution_count": 2,
      "outputs": []
    },
    {
      "cell_type": "code",
      "metadata": {
        "id": "vgu1J8eap0Yl"
      },
      "source": [
        "def Tx(x):\r\n",
        "  T = np.array([[1, 0, 0, x],\r\n",
        "                [0, 1, 0, 0],\r\n",
        "                [0, 0, 1, 0],\r\n",
        "                [0, 0, 0, 1]], dtype=float)\r\n",
        "  return T\r\n",
        "\r\n",
        "def Ty(y):\r\n",
        "  T = np.array([[1, 0, 0, 0],\r\n",
        "                [0, 1, 0, y],\r\n",
        "                [0, 0, 1, 0],\r\n",
        "                [0, 0, 0, 1]], dtype=float)\r\n",
        "  return T\r\n",
        "\r\n",
        "def Tz(z):\r\n",
        "  T = np.array([[1, 0, 0, 0],\r\n",
        "                [0, 1, 0, 0],\r\n",
        "                [0, 0, 1, z],\r\n",
        "                [0, 0, 0, 1]], dtype=float)\r\n",
        "  return T"
      ],
      "execution_count": 3,
      "outputs": []
    },
    {
      "cell_type": "code",
      "metadata": {
        "id": "6Jbs8HR6CCkf"
      },
      "source": [
        "def Tx_sym(s):\r\n",
        "  return sym.Matrix(\r\n",
        "      [[1, 0, 0, s],\r\n",
        "        [0, 1, 0, 0],\r\n",
        "        [0, 0, 1, 0],\r\n",
        "        [0, 0, 0, 1]]\r\n",
        "  )\r\n",
        "\r\n",
        "def Ty_sym(s):\r\n",
        "  return sym.Matrix(\r\n",
        "      [[1, 0, 0, 0],\r\n",
        "        [0, 1, 0, s],\r\n",
        "        [0, 0, 1, 0],\r\n",
        "        [0, 0, 0, 1]]\r\n",
        "  )\r\n",
        "\r\n",
        "def Tz_sym(s):\r\n",
        "  return sym.Matrix(\r\n",
        "      [[1, 0, 0, 0],\r\n",
        "        [0, 1, 0, 0],\r\n",
        "        [0, 0, 1, s],\r\n",
        "        [0, 0, 0, 1]]\r\n",
        "  )"
      ],
      "execution_count": 4,
      "outputs": []
    },
    {
      "cell_type": "code",
      "metadata": {
        "id": "d1c5WECWCSNN"
      },
      "source": [
        "def Rx_sym(q):\r\n",
        "  return sym.Matrix(\r\n",
        "      [[1, 0, 0, 0],\r\n",
        "        [0, sym.cos(q), -sym.sin(q), 0],\r\n",
        "        [0, sym.sin(q), sym.cos(q), 0],\r\n",
        "        [0, 0, 0, 1]]\r\n",
        "  )\r\n",
        "\r\n",
        "def Ry_sym(q):\r\n",
        "  return sym.Matrix(\r\n",
        "      [[sym.cos(q), 0, sym.sin(q), 0],\r\n",
        "        [0, 1, 0, 0],\r\n",
        "        [-sym.sin(q), 0, sym.cos(q), 0],\r\n",
        "        [0, 0, 0, 1]]\r\n",
        "  )\r\n",
        "\r\n",
        "def Rz_sym(q):\r\n",
        "  return sym.Matrix(\r\n",
        "      [[sym.cos(q), -sym.sin(q), 0, 0],\r\n",
        "        [sym.sin(q), sym.cos(q), 0, 0],\r\n",
        "        [0, 0, 1, 0],\r\n",
        "        [0, 0, 0, 1]]\r\n",
        "  )"
      ],
      "execution_count": 5,
      "outputs": []
    },
    {
      "cell_type": "code",
      "metadata": {
        "id": "5bvLnFu6bswg"
      },
      "source": [
        "def vec_cross(vec1, vec2):\r\n",
        "  \"\"\"Returns the cross product of two vectors\"\"\"\r\n",
        "  return np.cross(np.aray(vec1), np.array(vec2))\r\n",
        "\r\n",
        "def vec2skew(vec):\r\n",
        "  \"\"\"Takes a 3 dimensional vector and returns \r\n",
        "     the skew matrix representation of it\"\"\"\r\n",
        "  x, y, z = np.asarray(vec)\r\n",
        "  skew = np.array([\r\n",
        "    [ 0, -z,  y],\r\n",
        "    [ z,  0, -x],\r\n",
        "    [-y,  x,  0]\r\n",
        "  ])\r\n",
        "\r\n",
        "  return skew\r\n",
        "\r\n",
        "def T2Tadj(t_mat):\r\n",
        "  \"\"\"Takes the transformation matrix and returns \r\n",
        "     its adjoint representation\"\"\"\r\n",
        "  R = t_mat[:3,:3] # Rotation part of T\r\n",
        "  p = t_mat[:3,-1] # Translation part of T\r\n",
        "    \r\n",
        "  return np.block([\r\n",
        "    [ R,             np.zeros_like(R) ],\r\n",
        "    [ vec2skew(p)@R, R                ]\r\n",
        "  ])\r\n",
        "\r\n",
        "def twist2mat(twist):\r\n",
        "  \"\"\"Takes the 6 dimensional twist vector and returns \r\n",
        "     its 4X4 {se(3)} matrix representation\"\"\"\r\n",
        "  ω = twist[:3]\r\n",
        "  υ = twist[3:]\r\n",
        "\r\n",
        "  return np.block([\r\n",
        "      [ vec2skew(ω), np.c_[υ] ],\r\n",
        "      [ np.zeros(3), 0        ]\r\n",
        "  ])"
      ],
      "execution_count": 6,
      "outputs": []
    },
    {
      "cell_type": "code",
      "metadata": {
        "id": "dMclgWc8K01u"
      },
      "source": [
        "def rot_exp(ω, θ):\r\n",
        "  \"\"\"Calculates the exponential matrix of the given rotation \r\n",
        "     matrix for a given angular velocity vector and theta value\"\"\"\r\n",
        "  value = np.eye(3)\\\r\n",
        "          + np.sin(θ)*vec2skew(ω)\\\r\n",
        "          + (1-np.cos(θ))*vec2skew(ω)@vec2skew(ω)\r\n",
        "\r\n",
        "  return value\r\n",
        "\r\n",
        "def screw_exp(screw, θ):\r\n",
        "  \"\"\"Calculates the exponential matrix of the given 6 dimension screw \r\n",
        "     vector for a given theta value\"\"\"\r\n",
        "  Sω = screw[:3]\r\n",
        "  Sυ = screw[3:]\r\n",
        "\r\n",
        "  if np.linalg.norm(Sω)==0 and np.linalg.norm(Sυ)==1:\r\n",
        "    \"\"\"Purely translational motion\"\"\"\r\n",
        "    return np.block([\r\n",
        "        [ np.eye(3),   np.c_[Sυ*θ] ],\r\n",
        "        [ np.zeros(3), 1           ]\r\n",
        "    ])\r\n",
        "  elif np.linalg.norm(Sω)==1:\r\n",
        "    \"\"\"Screw axis motion with rotation\"\"\"\r\n",
        "    exp12 = ((np.eye(3)*θ)\\\r\n",
        "            + (1-np.cos(θ))*vec2skew(Sω)\\\r\n",
        "            + (θ-np.sin(θ))*vec2skew(Sω)@vec2skew(Sω)) @ Sυ\r\n",
        "    \r\n",
        "    return np.block([\r\n",
        "        [ rot_exp(Sω, θ),  np.c_[exp12] ],\r\n",
        "        [ np.zeros(3),     1            ]\r\n",
        "    ])\r\n",
        "  else:\r\n",
        "    print(f'Check screw vector: {screw}')"
      ],
      "execution_count": 7,
      "outputs": []
    },
    {
      "cell_type": "code",
      "metadata": {
        "id": "7wC9PTsXYChI"
      },
      "source": [
        "def mag(vec):\r\n",
        "  \"\"\"Returns the magnitude of a vector\"\"\"\r\n",
        "  return np.linalg.norm(np.asarray(vec))\r\n",
        "\r\n",
        "def RRx(q):\r\n",
        "  R = np.array([[1,         0,          0],\r\n",
        "                [0, np.cos(q), -np.sin(q)],\r\n",
        "                [0, np.sin(q),  np.cos(q)]], dtype=float)\r\n",
        "  return R\r\n",
        "\r\n",
        "def RRy(q):\r\n",
        "  R = np.array([[ np.cos(q), 0, np.sin(q)],\r\n",
        "                [         0, 1,         0],\r\n",
        "                [-np.sin(q), 0, np.cos(q)]], dtype=float)\r\n",
        "  return R\r\n",
        "\r\n",
        "def RRz(q):\r\n",
        "  R = np.array([[np.cos(q), -np.sin(q), 0],\r\n",
        "                [np.sin(q),  np.cos(q), 0],\r\n",
        "                [        0,          0, 1]], dtype=float)\r\n",
        "  return R\r\n",
        "\r\n",
        "def rotate_xyz(vec, angx, angy, angz):\r\n",
        "  return np.round( RRx(angx) @ RRy(angy) @ RRz(angz) @ np.asarray(vec), 2 )"
      ],
      "execution_count": 8,
      "outputs": []
    },
    {
      "cell_type": "markdown",
      "metadata": {
        "id": "0M2YRmqvIT9K"
      },
      "source": [
        "### <b><i>Parameters And Product of Exponential Terms</i></b> "
      ]
    },
    {
      "cell_type": "code",
      "metadata": {
        "id": "vvHW47gs27Yq"
      },
      "source": [
        "# Parameter Definition\r\n",
        "a1, a2, a3 = 0.2, 0.1, 0.5\r\n",
        "\r\n",
        "# Definition of M and Screw Axis \r\n",
        "M = np.asarray([\r\n",
        "      [ 1, 0, 0,     0 ],\r\n",
        "      [ 0, 1, 0,    a3 ],\r\n",
        "      [ 0, 0, 1, a1+a2 ],\r\n",
        "      [ 0, 0, 0,     1 ]\r\n",
        "])\r\n",
        "\r\n",
        "s1 = np.array([ 0, 0, 1, 0,   0, 0])\r\n",
        "s2 = np.array([ 1, 0, 0, 0,  a1, 0])\r\n",
        "s3 = np.array([ 0, 0, 0, 0,   1, 0])\r\n",
        " \r\n",
        "b1 = np.array([ 0, 0, 1, a3,   0,  0])\r\n",
        "b2 = np.array([ 1, 0, 0,  0, -a2, a3])\r\n",
        "b3 = np.array([ 0, 0, 0,  0,   1,  0])"
      ],
      "execution_count": 9,
      "outputs": []
    },
    {
      "cell_type": "markdown",
      "metadata": {
        "id": "xglKJ4KV4pO_"
      },
      "source": [
        "### <b><i>Forward Kinematics</i></b> "
      ]
    },
    {
      "cell_type": "code",
      "metadata": {
        "id": "_xDTzKEU_ApD"
      },
      "source": [
        "def FK(thetas):\r\n",
        "  \"\"\"Returns the Forward Transformation Matrix for given joint variables\"\"\"\r\n",
        "  theta1, theta2, theta3 = thetas\r\n",
        "\r\n",
        "  T_theta1 = screw_exp(s1, theta1) @ screw_exp(s2, theta2) @ screw_exp(s3, theta3) @ M\r\n",
        "  T_theta2 = M @ screw_exp(b1, theta1) @ screw_exp(b2, theta2) @ screw_exp(b3, theta3)\r\n",
        "\r\n",
        "  return np.round(T_theta1,4)"
      ],
      "execution_count": 10,
      "outputs": []
    },
    {
      "cell_type": "code",
      "metadata": {
        "id": "wxNZ-rf9i679"
      },
      "source": [
        "def classical_FK(thetas):\r\n",
        "  theta1, theta2, theta3 = thetas\r\n",
        "\r\n",
        "  FK = Rz(theta1) @ Tz(a1) @ Rx(theta2) @ Tz(a2) @ Ty(a3+theta3)\r\n",
        "\r\n",
        "  return np.round(FK,4)"
      ],
      "execution_count": 11,
      "outputs": []
    },
    {
      "cell_type": "code",
      "metadata": {
        "colab": {
          "base_uri": "https://localhost:8080/"
        },
        "id": "FL3gz0SaCDGL",
        "outputId": "29cf2288-789a-4232-d152-fa3d83193db5"
      },
      "source": [
        "# Should return Zero Configuration Transformation Matrix\r\n",
        "FK([0, 0, 0]) == classical_FK([0, 0, 0])"
      ],
      "execution_count": 12,
      "outputs": [
        {
          "output_type": "execute_result",
          "data": {
            "text/plain": [
              "array([[ True,  True,  True,  True],\n",
              "       [ True,  True,  True,  True],\n",
              "       [ True,  True,  True,  True],\n",
              "       [ True,  True,  True,  True]])"
            ]
          },
          "metadata": {
            "tags": []
          },
          "execution_count": 12
        }
      ]
    },
    {
      "cell_type": "code",
      "metadata": {
        "colab": {
          "base_uri": "https://localhost:8080/"
        },
        "id": "oUKPJxHB3mqx",
        "outputId": "2e753c9b-ce2e-4604-d1a7-7de3c3470800"
      },
      "source": [
        "FK([-np.pi/2, 0, 1]) == classical_FK([-np.pi/2, 0, 1])"
      ],
      "execution_count": 13,
      "outputs": [
        {
          "output_type": "execute_result",
          "data": {
            "text/plain": [
              "array([[ True,  True,  True,  True],\n",
              "       [ True,  True,  True,  True],\n",
              "       [ True,  True,  True,  True],\n",
              "       [ True,  True,  True,  True]])"
            ]
          },
          "metadata": {
            "tags": []
          },
          "execution_count": 13
        }
      ]
    },
    {
      "cell_type": "code",
      "metadata": {
        "colab": {
          "base_uri": "https://localhost:8080/"
        },
        "id": "20YQbUxoZlbX",
        "outputId": "a99e62f7-0b7f-437d-c175-cd48c15e41c9"
      },
      "source": [
        "FK([-np.pi/2, 0.9, 0.6]) == classical_FK([-np.pi/2, 0.9, 0.6])"
      ],
      "execution_count": 14,
      "outputs": [
        {
          "output_type": "execute_result",
          "data": {
            "text/plain": [
              "array([[ True,  True,  True,  True],\n",
              "       [ True,  True,  True,  True],\n",
              "       [ True,  True,  True,  True],\n",
              "       [ True,  True,  True,  True]])"
            ]
          },
          "metadata": {
            "tags": []
          },
          "execution_count": 14
        }
      ]
    },
    {
      "cell_type": "markdown",
      "metadata": {
        "id": "focJ6mmU4t9U"
      },
      "source": [
        "### <b><i>Jacobian</i></b> "
      ]
    },
    {
      "cell_type": "code",
      "metadata": {
        "id": "RLemZTA34weW"
      },
      "source": [
        "def jacobian_space(screws, thetas):\r\n",
        "  \r\n",
        "  J = np.array([])\r\n",
        "\r\n",
        "  for (i,theta) in enumerate(thetas):\r\n",
        "\r\n",
        "    s_exps = [ screw_exp(screws[i], thetas[i]) for i in range(i) ]  # List of all screw exponentials till before joint i\r\n",
        "    s_exps.append(np.eye(4))                                        # To make sure it is not empty\r\n",
        "    \r\n",
        "    T = reduce(lambda a,b: a@b, s_exps)                             # Dot product of all screw_exponentials\r\n",
        "    T_adj = T2Tadj(T)                                               # Adjoint of total screw_exponentials\r\n",
        "    j_theta = T_adj @ screws[i]                                     # joint i jacobian vector\r\n",
        "\r\n",
        "    if len(J)==0:\r\n",
        "      J = np.c_[j_theta]\r\n",
        "    else:\r\n",
        "      J = np.c_[J, j_theta]\r\n",
        "  \r\n",
        "  return np.asarray(J).round(4)"
      ],
      "execution_count": 15,
      "outputs": []
    },
    {
      "cell_type": "code",
      "metadata": {
        "id": "rA3xbIxwKLKV"
      },
      "source": [
        "def jacobian_body(bodys, thetas):\r\n",
        "  \r\n",
        "  J = np.array([])\r\n",
        "   \r\n",
        "  n = len(thetas)-1\r\n",
        "  for (i,theta) in enumerate(thetas):\r\n",
        "\r\n",
        "    s_exps = [ screw_exp(-bodys[i], thetas[i]) for i in np.arange(i, len(thetas))[::-1] ]  # List of all screw exponentials from joint 2 to joint i\r\n",
        "    s_exps.append(np.eye(4))                                            # To make sure it is not empty\r\n",
        "    # s_exps[::-1]\r\n",
        "\r\n",
        "    T = reduce(lambda a,b: a@b, s_exps)                                 # Dot product of all screw_exponentials\r\n",
        "    T_adj = T2Tadj(T)                                                   # Adjoint of total screw_exponentials\r\n",
        "    j_theta = T_adj @ bodys[i]                                          # joint i jacobian vector\r\n",
        "\r\n",
        "    if len(J)==0:\r\n",
        "      J = np.c_[j_theta]\r\n",
        "    else:\r\n",
        "      J = np.c_[J, j_theta]\r\n",
        "  \r\n",
        "  return np.asarray(J).round(4)"
      ],
      "execution_count": 16,
      "outputs": []
    },
    {
      "cell_type": "code",
      "metadata": {
        "id": "-EJpAhZhBnmo"
      },
      "source": [
        "def jacobian_sym():\r\n",
        "  q1, q2, q3 = sym.symbols(\"q_1 q_2 q_3\", real=True)  \r\n",
        "\r\n",
        "  variables = [q1, q2, q3]\r\n",
        "\r\n",
        "  TF =  Rz_sym(q1) @ Tz_sym(a1) @ \\\r\n",
        "        Rx_sym(q2) @ Tz_sym(a2) @ \\\r\n",
        "        Ty_sym(a3 + q3) \r\n",
        "\r\n",
        "  R = TF[:3,:-1]\r\n",
        "  jacobian = sym.Matrix([])\r\n",
        "\r\n",
        "  for var in variables:\r\n",
        "      T_d  = sym.diff(TF, var) \r\n",
        "\r\n",
        "      T    = T_d[0:3, -1]\r\n",
        "      R_d  = T_d[0:3, :-1]\r\n",
        "      R_j  = R_d @ R.T \r\n",
        "\r\n",
        "      J = T.row_insert(3, sym.Matrix([R_j[2,1], R_j[0,2], R_j[1,0]]))\r\n",
        "\r\n",
        "      jacobian = jacobian.col_insert(len(jacobian), J)\r\n",
        "\r\n",
        "  return sym.lambdify([variables], jacobian, \"numpy\")\r\n",
        "\r\n",
        "jacobian_sym_func = jacobian_sym()\r\n",
        "\r\n",
        "def classical_jacobian(thetas):\r\n",
        "  variables = [*thetas]\r\n",
        "  return jacobian_sym_func(variables).round(4)"
      ],
      "execution_count": 17,
      "outputs": []
    },
    {
      "cell_type": "markdown",
      "metadata": {
        "id": "kZxxE4FoOke3"
      },
      "source": [
        "### <b><i>Comparing Jacobians</i></b> "
      ]
    },
    {
      "cell_type": "code",
      "metadata": {
        "id": "Rs1KrfG0Ob6m"
      },
      "source": [
        "screws = [s1, s2, s3]\r\n",
        "bodys  = [b1, b2, b3]\r\n",
        "thetas = np.array([-np.pi/4, 4*np.pi/3, 1])"
      ],
      "execution_count": 18,
      "outputs": []
    },
    {
      "cell_type": "code",
      "metadata": {
        "colab": {
          "base_uri": "https://localhost:8080/"
        },
        "id": "qOiGMOKKD8hU",
        "outputId": "de5435c9-f1d3-4f0b-87a2-9c9d1143c437"
      },
      "source": [
        "print(\"Jacobian Spacial\")\r\n",
        "jacobian_space(screws, thetas)"
      ],
      "execution_count": 19,
      "outputs": [
        {
          "output_type": "stream",
          "text": [
            "Jacobian Spacial\n"
          ],
          "name": "stdout"
        },
        {
          "output_type": "execute_result",
          "data": {
            "text/plain": [
              "array([[ 0.    ,  0.7071,  0.    ],\n",
              "       [ 0.    , -0.7071,  0.    ],\n",
              "       [ 1.    ,  0.    ,  0.    ],\n",
              "       [ 0.    ,  0.1414, -0.3536],\n",
              "       [ 0.    ,  0.1414, -0.3536],\n",
              "       [ 0.    ,  0.    , -0.866 ]])"
            ]
          },
          "metadata": {
            "tags": []
          },
          "execution_count": 19
        }
      ]
    },
    {
      "cell_type": "code",
      "metadata": {
        "colab": {
          "base_uri": "https://localhost:8080/"
        },
        "id": "mpEBsKi0lMcb",
        "outputId": "646c4ffd-7ebb-4a71-8af7-c5f50f79a084"
      },
      "source": [
        "print(\"Jacobian Body\")\r\n",
        "jacobian_body(bodys, thetas)"
      ],
      "execution_count": 20,
      "outputs": [
        {
          "output_type": "stream",
          "text": [
            "Jacobian Body\n"
          ],
          "name": "stdout"
        },
        {
          "output_type": "execute_result",
          "data": {
            "text/plain": [
              "array([[ 0.    ,  1.    ,  0.    ],\n",
              "       [-0.866 ,  0.    ,  0.    ],\n",
              "       [-0.5   ,  0.    ,  0.    ],\n",
              "       [ 1.6634,  0.    ,  0.    ],\n",
              "       [ 0.    , -0.1   ,  1.    ],\n",
              "       [ 0.    ,  1.5   ,  0.    ]])"
            ]
          },
          "metadata": {
            "tags": []
          },
          "execution_count": 20
        }
      ]
    },
    {
      "cell_type": "code",
      "metadata": {
        "colab": {
          "base_uri": "https://localhost:8080/"
        },
        "id": "08dh76YpBcnV",
        "outputId": "35f014da-76b0-476b-8d47-097f5ba8108d"
      },
      "source": [
        "print(\"Classical Jacobian\")\r\n",
        "classical_jacobian(thetas)"
      ],
      "execution_count": 21,
      "outputs": [
        {
          "output_type": "stream",
          "text": [
            "Classical Jacobian\n"
          ],
          "name": "stdout"
        },
        {
          "output_type": "execute_result",
          "data": {
            "text/plain": [
              "array([[ 0.4691,  0.9539, -0.3536],\n",
              "       [-0.4691,  0.9539, -0.3536],\n",
              "       [ 0.    , -0.6634, -0.866 ],\n",
              "       [ 0.    ,  0.7071,  0.    ],\n",
              "       [ 0.    , -0.7071,  0.    ],\n",
              "       [ 1.    ,  0.    ,  0.    ]])"
            ]
          },
          "metadata": {
            "tags": []
          },
          "execution_count": 21
        }
      ]
    },
    {
      "cell_type": "markdown",
      "metadata": {
        "id": "o_FnTVVJJBJw"
      },
      "source": [
        "### <b><i>Plot Function</i></b>"
      ]
    },
    {
      "cell_type": "code",
      "metadata": {
        "id": "nwdY1vSwHogV"
      },
      "source": [
        "import plotly.express as px\r\n",
        "import plotly.io as pio\r\n",
        "import plotly.graph_objects as go"
      ],
      "execution_count": 22,
      "outputs": []
    },
    {
      "cell_type": "code",
      "metadata": {
        "id": "G9ewKCSpn0eo"
      },
      "source": [
        "def vec2euler(vec):\r\n",
        "  x, y, z = np.asarray(vec)\r\n",
        "  \r\n",
        "  rx, ry, rz = np.arctan2(y,x), np.arctan2(x,y), np.arctan2(y,z)\r\n",
        "\r\n",
        "  return [rx, ry, rz]"
      ],
      "execution_count": 23,
      "outputs": []
    },
    {
      "cell_type": "code",
      "metadata": {
        "id": "mr4jwzezed87"
      },
      "source": [
        "def to_frame(frame, vec):\r\n",
        "  \"\"\"\"\"\"\r\n",
        "  vec = np.asarray(vec)\r\n",
        "  frame = np.asarray(frame)\r\n",
        "\r\n",
        "  x, y, z = frame \r\n",
        "  rx, ry, rz = vec2euler(frame)\r\n",
        "\r\n",
        "  R = RRx(rx)@RRy(ry)@RRz(rz)\r\n",
        "\r\n",
        "  R = R.T\r\n",
        "\r\n",
        "  return (-R@frame + R@vec).round(4)"
      ],
      "execution_count": 24,
      "outputs": []
    },
    {
      "cell_type": "code",
      "metadata": {
        "id": "hDXv-43gLxQZ"
      },
      "source": [
        "def box_3D(p0=[0,0,0], p1=[1,1,1], breadth=1, width=1):\r\n",
        "  \"\"\"Draws a solid box of certain height and width with its base centred at pos\"\"\"\r\n",
        "\r\n",
        "  # convert to numpy arrays \r\n",
        "  p0, p1 = np.asarray(p0), np.asarray(p1)\r\n",
        "\r\n",
        "  # vector in direction of axis\r\n",
        "  v = p1 - p0\r\n",
        "\r\n",
        "  # height along the axis\r\n",
        "  h = mag(v)\r\n",
        "\r\n",
        "  cx, cy, cz = p0\r\n",
        "  x1, x2 = cx-breadth/2, cx+breadth/2\r\n",
        "  y1, y2 = cy-width/2, cy+width/2\r\n",
        "  z1, z2 = cz, cz+h\r\n",
        "\r\n",
        "  xv, yv, zv = v\r\n",
        "  angx, angy, angz = np.arctan2(yv,xv), np.arctan2(xv,yv), np.arctan2(yv,zv)\r\n",
        "\r\n",
        "  print(np.rad2deg([angx, angy, angz]))\r\n",
        "\r\n",
        "  # Rotate all points\r\n",
        "  p111 = to_frame( -p0, ( rotate_xyz(to_frame( p0, [x1, y1, z1] ), angx, angy, angz) ) )\r\n",
        "  p121 = to_frame( -p0, ( rotate_xyz(to_frame( p0, [x1, y2, z1] ), angx, angy, angz) ) )\r\n",
        "  p221 = to_frame( -p0, ( rotate_xyz(to_frame( p0, [x2, y2, z1] ), angx, angy, angz) ) )\r\n",
        "  p211 = to_frame( -p0, ( rotate_xyz(to_frame( p0, [x2, y1, z1] ), angx, angy, angz) ) )\r\n",
        "  p112 = to_frame( -p0, ( rotate_xyz(to_frame( p0, [x1, y1, z2] ), angx, angy, angz) ) )\r\n",
        "  p122 = to_frame( -p0, ( rotate_xyz(to_frame( p0, [x1, y2, z2] ), angx, angy, angz) ) )\r\n",
        "  p222 = to_frame( -p0, ( rotate_xyz(to_frame( p0, [x2, y2, z2] ), angx, angy, angz) ) )\r\n",
        "  p212 = to_frame( -p0, ( rotate_xyz(to_frame( p0, [x2, y1, z2] ), angx, angy, angz) ) )\r\n",
        "\r\n",
        "  box = go.Mesh3d(\r\n",
        "    # 8 vertices of a cube\r\n",
        "    x=[p111[0], p121[0], p221[0], p211[0], p112[0], p122[0], p222[0], p212[0]],\r\n",
        "    y=[p111[1], p121[1], p221[1], p211[1], p112[1], p122[1], p222[1], p212[1]],\r\n",
        "    z=[p111[2], p121[2], p221[2], p211[2], p112[2], p122[2], p222[2], p212[2]],\r\n",
        "\r\n",
        "    i = [7, 0, 0, 0, 4, 4, 6, 6, 4, 0, 3, 2],\r\n",
        "    j = [3, 4, 1, 2, 5, 6, 5, 2, 0, 1, 6, 3],\r\n",
        "    k = [0, 7, 2, 3, 6, 7, 1, 1, 5, 5, 7, 6],\r\n",
        "    opacity=1,\r\n",
        "    color='#DC143C',\r\n",
        "    flatshading = True\r\n",
        "  )\r\n",
        "\r\n",
        "  return box"
      ],
      "execution_count": 25,
      "outputs": []
    },
    {
      "cell_type": "code",
      "metadata": {
        "id": "Qi5I4N3Z4XrS"
      },
      "source": [
        "def cylinder3D(p0=[0,0,0], p1=[1,1,1], R=1):\r\n",
        "\r\n",
        "  color_style = \"Peach\"\r\n",
        "\r\n",
        "  p0 = np.asarray(p0)\r\n",
        "  p1 = np.asarray(p1)\r\n",
        "\r\n",
        "  # vector in direction of axis\r\n",
        "  v = p1 - p0\r\n",
        "\r\n",
        "  # find magnitude of vector\r\n",
        "  mag = np.linalg.norm(v)\r\n",
        "\r\n",
        "  #unit vector in direction of axis\r\n",
        "  v = v / mag\r\n",
        "\r\n",
        "  # make some vector not in the same direction as v\r\n",
        "  not_v = np.array([1, 0, 0])\r\n",
        "  if (np.abs(v) == np.abs(not_v)).all():\r\n",
        "      not_v = np.array([0, 1, 0])\r\n",
        "\r\n",
        "  # make vector perpendicular to v\r\n",
        "  n1 = np.cross(v, not_v)\r\n",
        "\r\n",
        "  # normalize n1\r\n",
        "  n1 /= np.linalg.norm(n1)\r\n",
        "\r\n",
        "  # make unit vector perpendicular to v and n1\r\n",
        "  n2 = np.cross(v, n1)\r\n",
        "\r\n",
        "  # surface ranges over t from 0 to length of axis and 0 to 2*pi\r\n",
        "  t = np.linspace(0, mag, 2)\r\n",
        "  theta = np.linspace(0, 2 * np.pi, 100)\r\n",
        "  rsample = np.linspace(0, R, 2)\r\n",
        "\r\n",
        "  # use meshgrid to make 2d arrays\r\n",
        "  t, theta2 = np.meshgrid(t, theta)\r\n",
        "\r\n",
        "  rsample,theta = np.meshgrid(rsample, theta)\r\n",
        "\r\n",
        "  # generate coordinates for surface\r\n",
        "  # \"Tube\"\r\n",
        "  X, Y, Z = [p0[i] + v[i] * t + R * np.sin(theta2) * n1[i] + R * np.cos(theta2) *       n2[i] for i in [0, 1, 2]]\r\n",
        "  # \"Bottom\"\r\n",
        "  X2, Y2, Z2 = [p0[i] + rsample[i] * np.sin(theta) * n1[i] + rsample[i] * np.cos(theta) * n2[i] for i in [0, 1, 2]]\r\n",
        "  # \"Top\"\r\n",
        "  X3, Y3, Z3 = [p0[i] + v[i]*mag + rsample[i] * np.sin(theta) * n1[i] + rsample[i] * np.cos(theta) * n2[i] for i in [0, 1, 2]]\r\n",
        "\r\n",
        "  tube = go.Surface(x=X, y=Y, z=Z, colorscale=color_style, showscale=False)\r\n",
        "  bottom=dict(type='surface', x=X2, y=Y2, z=Z2, colorscale=color_style, showscale=False)\r\n",
        "  top=dict(type='surface', x=X3, y=Y3, z=Z3, colorscale=color_style, showscale=False)\r\n",
        "\r\n",
        "  return [tube, bottom, top]"
      ],
      "execution_count": 26,
      "outputs": []
    }
  ]
}